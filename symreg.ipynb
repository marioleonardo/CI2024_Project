{
 "cells": [
  {
   "cell_type": "markdown",
   "metadata": {},
   "source": [
    "Copyright **`(c)`** 2024 Giovanni Squillero `<giovanni.squillero@polito.it>`  \n",
    "[`https://github.com/squillero/computational-intelligence`](https://github.com/squillero/computational-intelligence)  \n",
    "Free under certain conditions — see the [`license`](https://github.com/squillero/computational-intelligence/blob/master/LICENSE.md) for details.  "
   ]
  },
  {
   "cell_type": "code",
   "execution_count": 2,
   "metadata": {},
   "outputs": [],
   "source": [
    "import numpy as np\n",
    "from icecream import ic\n",
    "\n",
    "def true_f(x: np.ndarray) -> np.ndarray:\n",
    "    return x[0] + np.sin(x[1]) / 5\n",
    "\n",
    "TEST_SIZE = 10_000\n",
    "TRAIN_SIZE = 1000\n",
    "\n",
    "x_validation = np.vstack(\n",
    "    [\n",
    "        np.random.random_sample(size=TEST_SIZE) * 2 * np.pi - np.pi,\n",
    "        np.random.random_sample(size=TEST_SIZE) * 2 - 1,\n",
    "    ]\n",
    ")\n",
    "y_validation = true_f(x_validation)\n",
    "train_indexes = np.random.choice(TEST_SIZE, size=TRAIN_SIZE, replace=False)\n",
    "x_train = x_validation[:, train_indexes]\n",
    "y_train = y_validation[train_indexes]\n",
    "assert np.all(y_train == true_f(x_train)), \"D'ho\"\n",
    "\n",
    "np.savez('problem_0.npz', x=x_train, y=y_train)\n",
    "\n",
    "\n"
   ]
  },
  {
   "cell_type": "code",
   "execution_count": 4,
   "metadata": {},
   "outputs": [],
   "source": [
    "import random\n",
    "# model 1\n",
    "\n",
    "class Node:\n",
    "    def __init__(self, value, left=None, right=None):\n",
    "        self.value = value\n",
    "        self.left = left\n",
    "        self.right = right\n",
    "\n",
    "    def copy(self):\n",
    "        return Node(self.value, self.left.copy() if self.left else None, self.right.copy() if self.right else None)\n",
    "\n",
    "    def get_subtrees(self):\n",
    "        subtrees = []\n",
    "        if self.left:\n",
    "            subtrees.append(self.left)\n",
    "            subtrees.extend(self.left.get_subtrees())\n",
    "        if self.right:\n",
    "            subtrees.append(self.right)\n",
    "            subtrees.extend(self.right.get_subtrees())\n",
    "        return subtrees\n",
    "\n",
    "    def swap(self, other):\n",
    "        self.value, other.value = other.value, self.value\n",
    "        self.left, other.left = other.left, self.left\n",
    "        self.right, other.right = other.right, self.right\n",
    "\n",
    "    def __str__(self):\n",
    "        if self.left and self.right:\n",
    "            return f\"({self.left} {self.value} {self.right})\"\n",
    "        return self.value\n",
    "\n",
    "class GeneticProgramming:\n",
    "    def __init__(self, population_size: int = 100, generations: int = 50):\n",
    "        self.population_size = population_size\n",
    "        self.generations = generations\n",
    "        self.best_program = None\n",
    "        self.operators = ['+', '-', '*', '/']\n",
    "        \n",
    "    def _generate_random_program(self) -> Node:\n",
    "        if random.random() < 0.5:\n",
    "            return Node(random.choice(['x[0]', 'x[1]']))\n",
    "        \n",
    "        op = random.choice(self.operators)\n",
    "        left = self._generate_random_program()\n",
    "        right = self._generate_random_program()\n",
    "        return Node(op, left, right)\n",
    "\n",
    "    def _evaluate_fitness(self, program: Node, X: np.ndarray, y: np.ndarray) -> float:\n",
    "        try:\n",
    "            func = self.get_function_from_tree(program)\n",
    "            predictions = func(X)\n",
    "            mse = np.mean(np.square(predictions - y))\n",
    "            return 1 / (1 + mse)\n",
    "        except:\n",
    "            return 0.0\n",
    "\n",
    "    def _crossover(self, parent1: Node, parent2: Node) -> Node:\n",
    "        new_parent1 = parent1.copy()\n",
    "        new_parent2 = parent2.copy()\n",
    "        \n",
    "        nodes1 = new_parent1.get_subtrees()\n",
    "        nodes2 = new_parent2.get_subtrees()\n",
    "        \n",
    "        if len(nodes1) > 0 and len(nodes2) > 0:\n",
    "            node1 = random.choice(nodes1)\n",
    "            node2 = random.choice(nodes2)\n",
    "            node1.swap(node2)\n",
    "            \n",
    "        return new_parent1\n",
    "\n",
    "    def _mutate(self, program: Node) -> Node:\n",
    "        if random.random() < 0.3:\n",
    "            nodes = program.get_subtrees()\n",
    "            if nodes:\n",
    "                node = random.choice(nodes)\n",
    "                if random.random() < 0.5:\n",
    "                    node.value = random.choice(self.operators)\n",
    "                else:\n",
    "                    node.value = random.choice(['x[0]', 'x[1]'])\n",
    "        return program\n",
    "\n",
    "    def train(self, X: np.ndarray, y: np.ndarray) -> None:\n",
    "        population = [self._generate_random_program() for _ in range(self.population_size)]\n",
    "        \n",
    "        for generation in range(self.generations):\n",
    "            fitness_scores = [(p, self._evaluate_fitness(p, X, y)) for p in population]\n",
    "            fitness_scores.sort(key=lambda x: x[1], reverse=True)\n",
    "            \n",
    "            if self.best_program is None or fitness_scores[0][1] > self._evaluate_fitness(self.best_program, X, y):\n",
    "                self.best_program = fitness_scores[0][0].copy()\n",
    "            \n",
    "            new_population = []\n",
    "            elite_size = self.population_size // 10\n",
    "            \n",
    "            new_population.extend([p[0].copy() for p in fitness_scores[:elite_size]])\n",
    "            \n",
    "            while len(new_population) < self.population_size:\n",
    "                parent1 = random.choice(fitness_scores[:self.population_size//2])[0]\n",
    "                parent2 = random.choice(fitness_scores[:self.population_size//2])[0]\n",
    "                child = self._crossover(parent1, parent2)\n",
    "                child = self._mutate(child)\n",
    "                new_population.append(child)\n",
    "            \n",
    "            population = new_population\n",
    "\n",
    "    def get_math_formula(self) -> str:\n",
    "        if self.best_program is None:\n",
    "            return \"No program trained yet\"\n",
    "        return str(self.best_program)\n",
    "\n",
    "    def get_function_from_tree(self, node: Node):\n",
    "        formula = str(node)\n",
    "        return lambda x: eval(formula)\n",
    "\n",
    "    def get_function_math_formula(self):\n",
    "        if self.best_program is None:\n",
    "            raise ValueError(\"No program trained yet\")\n",
    "        return self.get_function_from_tree(self.best_program)\n"
   ]
  },
  {
   "cell_type": "code",
   "execution_count": 18,
   "metadata": {},
   "outputs": [
    {
     "name": "stderr",
     "output_type": "stream",
     "text": [
      "C:\\Users\\Mario\\AppData\\Local\\Temp\\ipykernel_1224\\3315359002.py:59: RuntimeWarning: invalid value encountered in power\n",
      "  return np.power(self.left.evaluate(X), self.right.evaluate(X))\n",
      "C:\\Users\\Mario\\AppData\\Local\\Temp\\ipykernel_1224\\3315359002.py:59: RuntimeWarning: invalid value encountered in power\n",
      "  return np.power(self.left.evaluate(X), self.right.evaluate(X))\n",
      "C:\\Users\\Mario\\AppData\\Local\\Temp\\ipykernel_1224\\3315359002.py:59: RuntimeWarning: invalid value encountered in power\n",
      "  return np.power(self.left.evaluate(X), self.right.evaluate(X))\n",
      "C:\\Users\\Mario\\AppData\\Local\\Temp\\ipykernel_1224\\3315359002.py:59: RuntimeWarning: invalid value encountered in power\n",
      "  return np.power(self.left.evaluate(X), self.right.evaluate(X))\n",
      "C:\\Users\\Mario\\AppData\\Local\\Temp\\ipykernel_1224\\3315359002.py:59: RuntimeWarning: invalid value encountered in power\n",
      "  return np.power(self.left.evaluate(X), self.right.evaluate(X))\n",
      "C:\\Users\\Mario\\AppData\\Local\\Temp\\ipykernel_1224\\3315359002.py:59: RuntimeWarning: invalid value encountered in power\n",
      "  return np.power(self.left.evaluate(X), self.right.evaluate(X))\n",
      "C:\\Users\\Mario\\AppData\\Local\\Temp\\ipykernel_1224\\3315359002.py:59: RuntimeWarning: invalid value encountered in power\n",
      "  return np.power(self.left.evaluate(X), self.right.evaluate(X))\n",
      "C:\\Users\\Mario\\AppData\\Local\\Temp\\ipykernel_1224\\3315359002.py:59: RuntimeWarning: invalid value encountered in power\n",
      "  return np.power(self.left.evaluate(X), self.right.evaluate(X))\n",
      "C:\\Users\\Mario\\AppData\\Local\\Temp\\ipykernel_1224\\3315359002.py:59: RuntimeWarning: invalid value encountered in power\n",
      "  return np.power(self.left.evaluate(X), self.right.evaluate(X))\n",
      "C:\\Users\\Mario\\AppData\\Local\\Temp\\ipykernel_1224\\3315359002.py:59: RuntimeWarning: invalid value encountered in power\n",
      "  return np.power(self.left.evaluate(X), self.right.evaluate(X))\n"
     ]
    },
    {
     "name": "stdout",
     "output_type": "stream",
     "text": [
      "Invalid prediction during evaluation\n",
      "Invalid prediction during evaluation\n",
      "Invalid prediction during evaluation\n",
      "Invalid prediction during evaluation\n",
      "Invalid prediction during evaluation\n",
      "Invalid prediction during evaluation\n",
      "Invalid prediction during evaluation\n",
      "Invalid prediction during evaluation\n",
      "Invalid prediction during evaluation\n",
      "Invalid prediction during evaluation\n",
      "Invalid prediction during evaluation\n"
     ]
    },
    {
     "name": "stderr",
     "output_type": "stream",
     "text": [
      "C:\\Users\\Mario\\AppData\\Local\\Temp\\ipykernel_1224\\3315359002.py:59: RuntimeWarning: invalid value encountered in power\n",
      "  return np.power(self.left.evaluate(X), self.right.evaluate(X))\n",
      "C:\\Users\\Mario\\AppData\\Local\\Temp\\ipykernel_1224\\3315359002.py:59: RuntimeWarning: invalid value encountered in power\n",
      "  return np.power(self.left.evaluate(X), self.right.evaluate(X))\n",
      "C:\\Users\\Mario\\AppData\\Local\\Temp\\ipykernel_1224\\3315359002.py:59: RuntimeWarning: invalid value encountered in power\n",
      "  return np.power(self.left.evaluate(X), self.right.evaluate(X))\n",
      "C:\\Users\\Mario\\AppData\\Local\\Temp\\ipykernel_1224\\3315359002.py:59: RuntimeWarning: invalid value encountered in power\n",
      "  return np.power(self.left.evaluate(X), self.right.evaluate(X))\n",
      "C:\\Users\\Mario\\AppData\\Local\\Temp\\ipykernel_1224\\3315359002.py:59: RuntimeWarning: invalid value encountered in power\n",
      "  return np.power(self.left.evaluate(X), self.right.evaluate(X))\n"
     ]
    },
    {
     "name": "stdout",
     "output_type": "stream",
     "text": [
      "Invalid prediction during evaluation\n",
      "Invalid prediction during evaluation\n",
      "Invalid prediction during evaluation\n",
      "Invalid prediction during evaluation\n",
      "Invalid prediction during evaluation\n"
     ]
    },
    {
     "name": "stderr",
     "output_type": "stream",
     "text": [
      "C:\\Users\\Mario\\AppData\\Local\\Temp\\ipykernel_1224\\3315359002.py:59: RuntimeWarning: invalid value encountered in power\n",
      "  return np.power(self.left.evaluate(X), self.right.evaluate(X))\n",
      "C:\\Users\\Mario\\AppData\\Local\\Temp\\ipykernel_1224\\3315359002.py:59: RuntimeWarning: invalid value encountered in power\n",
      "  return np.power(self.left.evaluate(X), self.right.evaluate(X))\n",
      "C:\\Users\\Mario\\AppData\\Local\\Temp\\ipykernel_1224\\3315359002.py:59: RuntimeWarning: invalid value encountered in power\n",
      "  return np.power(self.left.evaluate(X), self.right.evaluate(X))\n",
      "C:\\Users\\Mario\\AppData\\Local\\Temp\\ipykernel_1224\\3315359002.py:59: RuntimeWarning: invalid value encountered in power\n",
      "  return np.power(self.left.evaluate(X), self.right.evaluate(X))\n",
      "c:\\Users\\Mario\\AppData\\Local\\Programs\\Python\\Python310\\lib\\site-packages\\sklearn\\metrics\\_regression.py:478: RuntimeWarning: overflow encountered in square\n",
      "  output_errors = np.average((y_true - y_pred) ** 2, axis=0, weights=sample_weight)\n",
      "C:\\Users\\Mario\\AppData\\Local\\Temp\\ipykernel_1224\\3315359002.py:59: RuntimeWarning: invalid value encountered in power\n",
      "  return np.power(self.left.evaluate(X), self.right.evaluate(X))\n",
      "C:\\Users\\Mario\\AppData\\Local\\Temp\\ipykernel_1224\\3315359002.py:59: RuntimeWarning: invalid value encountered in power\n",
      "  return np.power(self.left.evaluate(X), self.right.evaluate(X))\n",
      "C:\\Users\\Mario\\AppData\\Local\\Temp\\ipykernel_1224\\3315359002.py:59: RuntimeWarning: invalid value encountered in power\n",
      "  return np.power(self.left.evaluate(X), self.right.evaluate(X))\n",
      "C:\\Users\\Mario\\AppData\\Local\\Temp\\ipykernel_1224\\3315359002.py:59: RuntimeWarning: invalid value encountered in power\n",
      "  return np.power(self.left.evaluate(X), self.right.evaluate(X))\n",
      "C:\\Users\\Mario\\AppData\\Local\\Temp\\ipykernel_1224\\3315359002.py:59: RuntimeWarning: invalid value encountered in power\n",
      "  return np.power(self.left.evaluate(X), self.right.evaluate(X))\n",
      "C:\\Users\\Mario\\AppData\\Local\\Temp\\ipykernel_1224\\3315359002.py:59: RuntimeWarning: invalid value encountered in power\n",
      "  return np.power(self.left.evaluate(X), self.right.evaluate(X))\n"
     ]
    },
    {
     "name": "stdout",
     "output_type": "stream",
     "text": [
      "Invalid prediction during evaluation\n",
      "Invalid prediction during evaluation\n",
      "Invalid prediction during evaluation\n",
      "Invalid prediction during evaluation\n",
      "Invalid prediction during evaluation\n",
      "Invalid prediction during evaluation\n",
      "Invalid prediction during evaluation\n",
      "Invalid prediction during evaluation\n",
      "Invalid prediction during evaluation\n",
      "Invalid prediction during evaluation\n",
      "Generation 1, Best Fitness: 0.0832, Best Program Depth: 1\n",
      "Invalid prediction during evaluation\n",
      "Invalid prediction during evaluation\n"
     ]
    },
    {
     "name": "stderr",
     "output_type": "stream",
     "text": [
      "C:\\Users\\Mario\\AppData\\Local\\Temp\\ipykernel_1224\\3315359002.py:59: RuntimeWarning: invalid value encountered in power\n",
      "  return np.power(self.left.evaluate(X), self.right.evaluate(X))\n",
      "C:\\Users\\Mario\\AppData\\Local\\Temp\\ipykernel_1224\\3315359002.py:59: RuntimeWarning: invalid value encountered in power\n",
      "  return np.power(self.left.evaluate(X), self.right.evaluate(X))\n",
      "C:\\Users\\Mario\\AppData\\Local\\Temp\\ipykernel_1224\\3315359002.py:59: RuntimeWarning: invalid value encountered in power\n",
      "  return np.power(self.left.evaluate(X), self.right.evaluate(X))\n"
     ]
    },
    {
     "name": "stdout",
     "output_type": "stream",
     "text": [
      "Invalid prediction during evaluation\n",
      "Invalid prediction during evaluation\n",
      "Invalid prediction during evaluation\n",
      "Invalid prediction during evaluation\n"
     ]
    },
    {
     "name": "stderr",
     "output_type": "stream",
     "text": [
      "C:\\Users\\Mario\\AppData\\Local\\Temp\\ipykernel_1224\\3315359002.py:59: RuntimeWarning: invalid value encountered in power\n",
      "  return np.power(self.left.evaluate(X), self.right.evaluate(X))\n",
      "C:\\Users\\Mario\\AppData\\Local\\Temp\\ipykernel_1224\\3315359002.py:59: RuntimeWarning: invalid value encountered in power\n",
      "  return np.power(self.left.evaluate(X), self.right.evaluate(X))\n",
      "C:\\Users\\Mario\\AppData\\Local\\Temp\\ipykernel_1224\\3315359002.py:59: RuntimeWarning: invalid value encountered in power\n",
      "  return np.power(self.left.evaluate(X), self.right.evaluate(X))\n",
      "C:\\Users\\Mario\\AppData\\Local\\Temp\\ipykernel_1224\\3315359002.py:59: RuntimeWarning: invalid value encountered in power\n",
      "  return np.power(self.left.evaluate(X), self.right.evaluate(X))\n"
     ]
    },
    {
     "name": "stdout",
     "output_type": "stream",
     "text": [
      "Invalid prediction during evaluation\n",
      "Invalid prediction during evaluation\n"
     ]
    },
    {
     "name": "stderr",
     "output_type": "stream",
     "text": [
      "C:\\Users\\Mario\\AppData\\Local\\Temp\\ipykernel_1224\\3315359002.py:59: RuntimeWarning: invalid value encountered in power\n",
      "  return np.power(self.left.evaluate(X), self.right.evaluate(X))\n",
      "C:\\Users\\Mario\\AppData\\Local\\Temp\\ipykernel_1224\\3315359002.py:59: RuntimeWarning: invalid value encountered in power\n",
      "  return np.power(self.left.evaluate(X), self.right.evaluate(X))\n"
     ]
    },
    {
     "name": "stdout",
     "output_type": "stream",
     "text": [
      "Invalid prediction during evaluation\n"
     ]
    },
    {
     "name": "stderr",
     "output_type": "stream",
     "text": [
      "C:\\Users\\Mario\\AppData\\Local\\Temp\\ipykernel_1224\\3315359002.py:59: RuntimeWarning: invalid value encountered in power\n",
      "  return np.power(self.left.evaluate(X), self.right.evaluate(X))\n",
      "C:\\Users\\Mario\\AppData\\Local\\Temp\\ipykernel_1224\\3315359002.py:59: RuntimeWarning: invalid value encountered in power\n",
      "  return np.power(self.left.evaluate(X), self.right.evaluate(X))\n",
      "C:\\Users\\Mario\\AppData\\Local\\Temp\\ipykernel_1224\\3315359002.py:59: RuntimeWarning: invalid value encountered in power\n",
      "  return np.power(self.left.evaluate(X), self.right.evaluate(X))\n",
      "C:\\Users\\Mario\\AppData\\Local\\Temp\\ipykernel_1224\\3315359002.py:59: RuntimeWarning: invalid value encountered in power\n",
      "  return np.power(self.left.evaluate(X), self.right.evaluate(X))\n"
     ]
    },
    {
     "name": "stdout",
     "output_type": "stream",
     "text": [
      "Invalid prediction during evaluation\n",
      "Invalid prediction during evaluation\n",
      "Invalid prediction during evaluation\n",
      "Invalid prediction during evaluation\n",
      "Generation 2, Best Fitness: 0.0531, Best Program Depth: 3\n"
     ]
    },
    {
     "name": "stderr",
     "output_type": "stream",
     "text": [
      "C:\\Users\\Mario\\AppData\\Local\\Temp\\ipykernel_1224\\3315359002.py:59: RuntimeWarning: invalid value encountered in power\n",
      "  return np.power(self.left.evaluate(X), self.right.evaluate(X))\n",
      "C:\\Users\\Mario\\AppData\\Local\\Temp\\ipykernel_1224\\3315359002.py:59: RuntimeWarning: invalid value encountered in power\n",
      "  return np.power(self.left.evaluate(X), self.right.evaluate(X))\n"
     ]
    },
    {
     "name": "stdout",
     "output_type": "stream",
     "text": [
      "Invalid prediction during evaluation\n",
      "Invalid prediction during evaluation\n"
     ]
    },
    {
     "name": "stderr",
     "output_type": "stream",
     "text": [
      "C:\\Users\\Mario\\AppData\\Local\\Temp\\ipykernel_1224\\3315359002.py:59: RuntimeWarning: invalid value encountered in power\n",
      "  return np.power(self.left.evaluate(X), self.right.evaluate(X))\n"
     ]
    },
    {
     "name": "stdout",
     "output_type": "stream",
     "text": [
      "Invalid prediction during evaluation\n",
      "Generation 3, Best Fitness: 0.0531, Best Program Depth: 3\n",
      "Generation 4, Best Fitness: 0.0531, Best Program Depth: 3\n",
      "Generation 5, Best Fitness: 0.0531, Best Program Depth: 3\n",
      "Generation 6, Best Fitness: 0.0531, Best Program Depth: 3\n",
      "Invalid prediction during evaluation\n"
     ]
    },
    {
     "name": "stderr",
     "output_type": "stream",
     "text": [
      "C:\\Users\\Mario\\AppData\\Local\\Temp\\ipykernel_1224\\3315359002.py:59: RuntimeWarning: invalid value encountered in power\n",
      "  return np.power(self.left.evaluate(X), self.right.evaluate(X))\n"
     ]
    },
    {
     "name": "stdout",
     "output_type": "stream",
     "text": [
      "Generation 7, Best Fitness: 0.0531, Best Program Depth: 3\n",
      "Invalid prediction during evaluation\n",
      "Invalid prediction during evaluation\n"
     ]
    },
    {
     "name": "stderr",
     "output_type": "stream",
     "text": [
      "C:\\Users\\Mario\\AppData\\Local\\Temp\\ipykernel_1224\\3315359002.py:59: RuntimeWarning: invalid value encountered in power\n",
      "  return np.power(self.left.evaluate(X), self.right.evaluate(X))\n",
      "C:\\Users\\Mario\\AppData\\Local\\Temp\\ipykernel_1224\\3315359002.py:59: RuntimeWarning: invalid value encountered in power\n",
      "  return np.power(self.left.evaluate(X), self.right.evaluate(X))\n"
     ]
    },
    {
     "name": "stdout",
     "output_type": "stream",
     "text": [
      "Generation 8, Best Fitness: 0.0531, Best Program Depth: 3\n",
      "Invalid prediction during evaluation\n",
      "Invalid prediction during evaluation\n"
     ]
    },
    {
     "name": "stderr",
     "output_type": "stream",
     "text": [
      "C:\\Users\\Mario\\AppData\\Local\\Temp\\ipykernel_1224\\3315359002.py:59: RuntimeWarning: invalid value encountered in power\n",
      "  return np.power(self.left.evaluate(X), self.right.evaluate(X))\n",
      "C:\\Users\\Mario\\AppData\\Local\\Temp\\ipykernel_1224\\3315359002.py:59: RuntimeWarning: invalid value encountered in power\n",
      "  return np.power(self.left.evaluate(X), self.right.evaluate(X))\n"
     ]
    },
    {
     "name": "stdout",
     "output_type": "stream",
     "text": [
      "Generation 9, Best Fitness: 0.0531, Best Program Depth: 3\n",
      "Generation 10, Best Fitness: 0.0531, Best Program Depth: 3\n",
      "Generation 11, Best Fitness: 0.0531, Best Program Depth: 3\n"
     ]
    },
    {
     "name": "stderr",
     "output_type": "stream",
     "text": [
      "C:\\Users\\Mario\\AppData\\Local\\Temp\\ipykernel_1224\\3315359002.py:59: RuntimeWarning: invalid value encountered in power\n",
      "  return np.power(self.left.evaluate(X), self.right.evaluate(X))\n",
      "C:\\Users\\Mario\\AppData\\Local\\Temp\\ipykernel_1224\\3315359002.py:59: RuntimeWarning: invalid value encountered in power\n",
      "  return np.power(self.left.evaluate(X), self.right.evaluate(X))\n",
      "C:\\Users\\Mario\\AppData\\Local\\Temp\\ipykernel_1224\\3315359002.py:59: RuntimeWarning: invalid value encountered in power\n",
      "  return np.power(self.left.evaluate(X), self.right.evaluate(X))\n"
     ]
    },
    {
     "name": "stdout",
     "output_type": "stream",
     "text": [
      "Invalid prediction during evaluation\n",
      "Invalid prediction during evaluation\n",
      "Invalid prediction during evaluation\n",
      "Generation 12, Best Fitness: 0.0531, Best Program Depth: 3\n",
      "Generation 13, Best Fitness: 0.0531, Best Program Depth: 3\n"
     ]
    },
    {
     "name": "stderr",
     "output_type": "stream",
     "text": [
      "C:\\Users\\Mario\\AppData\\Local\\Temp\\ipykernel_1224\\3315359002.py:59: RuntimeWarning: invalid value encountered in power\n",
      "  return np.power(self.left.evaluate(X), self.right.evaluate(X))\n"
     ]
    },
    {
     "name": "stdout",
     "output_type": "stream",
     "text": [
      "Invalid prediction during evaluation\n"
     ]
    },
    {
     "name": "stderr",
     "output_type": "stream",
     "text": [
      "C:\\Users\\Mario\\AppData\\Local\\Temp\\ipykernel_1224\\3315359002.py:59: RuntimeWarning: invalid value encountered in power\n",
      "  return np.power(self.left.evaluate(X), self.right.evaluate(X))\n",
      "C:\\Users\\Mario\\AppData\\Local\\Temp\\ipykernel_1224\\3315359002.py:59: RuntimeWarning: invalid value encountered in power\n",
      "  return np.power(self.left.evaluate(X), self.right.evaluate(X))\n"
     ]
    },
    {
     "name": "stdout",
     "output_type": "stream",
     "text": [
      "Invalid prediction during evaluation\n",
      "Invalid prediction during evaluation\n",
      "Generation 14, Best Fitness: 0.0531, Best Program Depth: 3\n"
     ]
    },
    {
     "name": "stderr",
     "output_type": "stream",
     "text": [
      "C:\\Users\\Mario\\AppData\\Local\\Temp\\ipykernel_1224\\3315359002.py:59: RuntimeWarning: invalid value encountered in power\n",
      "  return np.power(self.left.evaluate(X), self.right.evaluate(X))\n",
      "C:\\Users\\Mario\\AppData\\Local\\Temp\\ipykernel_1224\\3315359002.py:59: RuntimeWarning: invalid value encountered in power\n",
      "  return np.power(self.left.evaluate(X), self.right.evaluate(X))\n",
      "C:\\Users\\Mario\\AppData\\Local\\Temp\\ipykernel_1224\\3315359002.py:59: RuntimeWarning: invalid value encountered in power\n",
      "  return np.power(self.left.evaluate(X), self.right.evaluate(X))\n",
      "C:\\Users\\Mario\\AppData\\Local\\Temp\\ipykernel_1224\\3315359002.py:59: RuntimeWarning: invalid value encountered in power\n",
      "  return np.power(self.left.evaluate(X), self.right.evaluate(X))\n"
     ]
    },
    {
     "name": "stdout",
     "output_type": "stream",
     "text": [
      "Invalid prediction during evaluation\n",
      "Invalid prediction during evaluation\n",
      "Invalid prediction during evaluation\n",
      "Invalid prediction during evaluation\n"
     ]
    },
    {
     "name": "stderr",
     "output_type": "stream",
     "text": [
      "C:\\Users\\Mario\\AppData\\Local\\Temp\\ipykernel_1224\\3315359002.py:59: RuntimeWarning: invalid value encountered in power\n",
      "  return np.power(self.left.evaluate(X), self.right.evaluate(X))\n",
      "C:\\Users\\Mario\\AppData\\Local\\Temp\\ipykernel_1224\\3315359002.py:59: RuntimeWarning: invalid value encountered in power\n",
      "  return np.power(self.left.evaluate(X), self.right.evaluate(X))\n"
     ]
    },
    {
     "name": "stdout",
     "output_type": "stream",
     "text": [
      "Invalid prediction during evaluation\n",
      "Generation 15, Best Fitness: 0.0531, Best Program Depth: 3\n",
      "Invalid prediction during evaluation\n"
     ]
    },
    {
     "name": "stderr",
     "output_type": "stream",
     "text": [
      "C:\\Users\\Mario\\AppData\\Local\\Temp\\ipykernel_1224\\3315359002.py:59: RuntimeWarning: invalid value encountered in power\n",
      "  return np.power(self.left.evaluate(X), self.right.evaluate(X))\n",
      "C:\\Users\\Mario\\AppData\\Local\\Temp\\ipykernel_1224\\3315359002.py:59: RuntimeWarning: invalid value encountered in power\n",
      "  return np.power(self.left.evaluate(X), self.right.evaluate(X))\n",
      "C:\\Users\\Mario\\AppData\\Local\\Temp\\ipykernel_1224\\3315359002.py:59: RuntimeWarning: invalid value encountered in power\n",
      "  return np.power(self.left.evaluate(X), self.right.evaluate(X))\n"
     ]
    },
    {
     "name": "stdout",
     "output_type": "stream",
     "text": [
      "Invalid prediction during evaluation\n",
      "Invalid prediction during evaluation\n",
      "Invalid prediction during evaluation\n"
     ]
    },
    {
     "name": "stderr",
     "output_type": "stream",
     "text": [
      "C:\\Users\\Mario\\AppData\\Local\\Temp\\ipykernel_1224\\3315359002.py:59: RuntimeWarning: invalid value encountered in power\n",
      "  return np.power(self.left.evaluate(X), self.right.evaluate(X))\n",
      "C:\\Users\\Mario\\AppData\\Local\\Temp\\ipykernel_1224\\3315359002.py:59: RuntimeWarning: invalid value encountered in power\n",
      "  return np.power(self.left.evaluate(X), self.right.evaluate(X))\n",
      "C:\\Users\\Mario\\AppData\\Local\\Temp\\ipykernel_1224\\3315359002.py:59: RuntimeWarning: invalid value encountered in power\n",
      "  return np.power(self.left.evaluate(X), self.right.evaluate(X))\n",
      "C:\\Users\\Mario\\AppData\\Local\\Temp\\ipykernel_1224\\3315359002.py:59: RuntimeWarning: invalid value encountered in power\n",
      "  return np.power(self.left.evaluate(X), self.right.evaluate(X))\n"
     ]
    },
    {
     "name": "stdout",
     "output_type": "stream",
     "text": [
      "Invalid prediction during evaluation\n",
      "Invalid prediction during evaluation\n",
      "Invalid prediction during evaluation\n",
      "Invalid prediction during evaluation\n"
     ]
    },
    {
     "name": "stderr",
     "output_type": "stream",
     "text": [
      "C:\\Users\\Mario\\AppData\\Local\\Temp\\ipykernel_1224\\3315359002.py:59: RuntimeWarning: invalid value encountered in power\n",
      "  return np.power(self.left.evaluate(X), self.right.evaluate(X))\n"
     ]
    },
    {
     "name": "stdout",
     "output_type": "stream",
     "text": [
      "Invalid prediction during evaluation\n",
      "Generation 16, Best Fitness: 0.0531, Best Program Depth: 3\n"
     ]
    },
    {
     "name": "stderr",
     "output_type": "stream",
     "text": [
      "C:\\Users\\Mario\\AppData\\Local\\Temp\\ipykernel_1224\\3315359002.py:59: RuntimeWarning: invalid value encountered in power\n",
      "  return np.power(self.left.evaluate(X), self.right.evaluate(X))\n",
      "C:\\Users\\Mario\\AppData\\Local\\Temp\\ipykernel_1224\\3315359002.py:59: RuntimeWarning: invalid value encountered in power\n",
      "  return np.power(self.left.evaluate(X), self.right.evaluate(X))\n"
     ]
    },
    {
     "name": "stdout",
     "output_type": "stream",
     "text": [
      "Invalid prediction during evaluation\n",
      "Invalid prediction during evaluation\n"
     ]
    },
    {
     "name": "stderr",
     "output_type": "stream",
     "text": [
      "C:\\Users\\Mario\\AppData\\Local\\Temp\\ipykernel_1224\\3315359002.py:59: RuntimeWarning: invalid value encountered in power\n",
      "  return np.power(self.left.evaluate(X), self.right.evaluate(X))\n"
     ]
    },
    {
     "name": "stdout",
     "output_type": "stream",
     "text": [
      "Invalid prediction during evaluation\n"
     ]
    },
    {
     "name": "stderr",
     "output_type": "stream",
     "text": [
      "C:\\Users\\Mario\\AppData\\Local\\Temp\\ipykernel_1224\\3315359002.py:59: RuntimeWarning: invalid value encountered in power\n",
      "  return np.power(self.left.evaluate(X), self.right.evaluate(X))\n",
      "C:\\Users\\Mario\\AppData\\Local\\Temp\\ipykernel_1224\\3315359002.py:59: RuntimeWarning: invalid value encountered in power\n",
      "  return np.power(self.left.evaluate(X), self.right.evaluate(X))\n",
      "C:\\Users\\Mario\\AppData\\Local\\Temp\\ipykernel_1224\\3315359002.py:59: RuntimeWarning: invalid value encountered in power\n",
      "  return np.power(self.left.evaluate(X), self.right.evaluate(X))\n"
     ]
    },
    {
     "name": "stdout",
     "output_type": "stream",
     "text": [
      "Invalid prediction during evaluation\n",
      "Invalid prediction during evaluation\n",
      "Invalid prediction during evaluation\n"
     ]
    },
    {
     "name": "stderr",
     "output_type": "stream",
     "text": [
      "C:\\Users\\Mario\\AppData\\Local\\Temp\\ipykernel_1224\\3315359002.py:59: RuntimeWarning: invalid value encountered in power\n",
      "  return np.power(self.left.evaluate(X), self.right.evaluate(X))\n"
     ]
    },
    {
     "name": "stdout",
     "output_type": "stream",
     "text": [
      "Invalid prediction during evaluation\n"
     ]
    },
    {
     "name": "stderr",
     "output_type": "stream",
     "text": [
      "C:\\Users\\Mario\\AppData\\Local\\Temp\\ipykernel_1224\\3315359002.py:59: RuntimeWarning: invalid value encountered in power\n",
      "  return np.power(self.left.evaluate(X), self.right.evaluate(X))\n"
     ]
    },
    {
     "name": "stdout",
     "output_type": "stream",
     "text": [
      "Invalid prediction during evaluation\n",
      "Generation 17, Best Fitness: 0.0531, Best Program Depth: 3\n",
      "Invalid prediction during evaluation\n",
      "Invalid prediction during evaluation\n",
      "Invalid prediction during evaluation\n"
     ]
    },
    {
     "name": "stderr",
     "output_type": "stream",
     "text": [
      "C:\\Users\\Mario\\AppData\\Local\\Temp\\ipykernel_1224\\3315359002.py:59: RuntimeWarning: invalid value encountered in power\n",
      "  return np.power(self.left.evaluate(X), self.right.evaluate(X))\n",
      "C:\\Users\\Mario\\AppData\\Local\\Temp\\ipykernel_1224\\3315359002.py:59: RuntimeWarning: invalid value encountered in power\n",
      "  return np.power(self.left.evaluate(X), self.right.evaluate(X))\n",
      "C:\\Users\\Mario\\AppData\\Local\\Temp\\ipykernel_1224\\3315359002.py:59: RuntimeWarning: invalid value encountered in power\n",
      "  return np.power(self.left.evaluate(X), self.right.evaluate(X))\n",
      "C:\\Users\\Mario\\AppData\\Local\\Temp\\ipykernel_1224\\3315359002.py:59: RuntimeWarning: invalid value encountered in power\n",
      "  return np.power(self.left.evaluate(X), self.right.evaluate(X))\n",
      "C:\\Users\\Mario\\AppData\\Local\\Temp\\ipykernel_1224\\3315359002.py:59: RuntimeWarning: invalid value encountered in power\n",
      "  return np.power(self.left.evaluate(X), self.right.evaluate(X))\n",
      "C:\\Users\\Mario\\AppData\\Local\\Temp\\ipykernel_1224\\3315359002.py:59: RuntimeWarning: invalid value encountered in power\n",
      "  return np.power(self.left.evaluate(X), self.right.evaluate(X))\n"
     ]
    },
    {
     "name": "stdout",
     "output_type": "stream",
     "text": [
      "Invalid prediction during evaluation\n",
      "Invalid prediction during evaluation\n",
      "Invalid prediction during evaluation\n"
     ]
    },
    {
     "name": "stderr",
     "output_type": "stream",
     "text": [
      "C:\\Users\\Mario\\AppData\\Local\\Temp\\ipykernel_1224\\3315359002.py:59: RuntimeWarning: invalid value encountered in power\n",
      "  return np.power(self.left.evaluate(X), self.right.evaluate(X))\n"
     ]
    },
    {
     "name": "stdout",
     "output_type": "stream",
     "text": [
      "Invalid prediction during evaluation\n"
     ]
    },
    {
     "name": "stderr",
     "output_type": "stream",
     "text": [
      "C:\\Users\\Mario\\AppData\\Local\\Temp\\ipykernel_1224\\3315359002.py:59: RuntimeWarning: invalid value encountered in power\n",
      "  return np.power(self.left.evaluate(X), self.right.evaluate(X))\n"
     ]
    },
    {
     "name": "stdout",
     "output_type": "stream",
     "text": [
      "Invalid prediction during evaluation\n"
     ]
    },
    {
     "name": "stderr",
     "output_type": "stream",
     "text": [
      "C:\\Users\\Mario\\AppData\\Local\\Temp\\ipykernel_1224\\3315359002.py:59: RuntimeWarning: invalid value encountered in power\n",
      "  return np.power(self.left.evaluate(X), self.right.evaluate(X))\n"
     ]
    },
    {
     "name": "stdout",
     "output_type": "stream",
     "text": [
      "Invalid prediction during evaluation\n"
     ]
    },
    {
     "name": "stderr",
     "output_type": "stream",
     "text": [
      "C:\\Users\\Mario\\AppData\\Local\\Temp\\ipykernel_1224\\3315359002.py:59: RuntimeWarning: invalid value encountered in power\n",
      "  return np.power(self.left.evaluate(X), self.right.evaluate(X))\n",
      "C:\\Users\\Mario\\AppData\\Local\\Temp\\ipykernel_1224\\3315359002.py:59: RuntimeWarning: invalid value encountered in power\n",
      "  return np.power(self.left.evaluate(X), self.right.evaluate(X))\n",
      "C:\\Users\\Mario\\AppData\\Local\\Temp\\ipykernel_1224\\3315359002.py:59: RuntimeWarning: invalid value encountered in power\n",
      "  return np.power(self.left.evaluate(X), self.right.evaluate(X))\n",
      "C:\\Users\\Mario\\AppData\\Local\\Temp\\ipykernel_1224\\3315359002.py:59: RuntimeWarning: invalid value encountered in power\n",
      "  return np.power(self.left.evaluate(X), self.right.evaluate(X))\n",
      "C:\\Users\\Mario\\AppData\\Local\\Temp\\ipykernel_1224\\3315359002.py:59: RuntimeWarning: invalid value encountered in power\n",
      "  return np.power(self.left.evaluate(X), self.right.evaluate(X))\n",
      "C:\\Users\\Mario\\AppData\\Local\\Temp\\ipykernel_1224\\3315359002.py:59: RuntimeWarning: invalid value encountered in power\n",
      "  return np.power(self.left.evaluate(X), self.right.evaluate(X))\n"
     ]
    },
    {
     "name": "stdout",
     "output_type": "stream",
     "text": [
      "Invalid prediction during evaluation\n",
      "Generation 18, Best Fitness: 0.0531, Best Program Depth: 3\n",
      "Invalid prediction during evaluation\n",
      "Invalid prediction during evaluation\n",
      "Invalid prediction during evaluation\n",
      "Invalid prediction during evaluation\n",
      "Invalid prediction during evaluation\n",
      "Invalid prediction during evaluation\n"
     ]
    },
    {
     "name": "stderr",
     "output_type": "stream",
     "text": [
      "C:\\Users\\Mario\\AppData\\Local\\Temp\\ipykernel_1224\\3315359002.py:59: RuntimeWarning: invalid value encountered in power\n",
      "  return np.power(self.left.evaluate(X), self.right.evaluate(X))\n",
      "C:\\Users\\Mario\\AppData\\Local\\Temp\\ipykernel_1224\\3315359002.py:59: RuntimeWarning: invalid value encountered in power\n",
      "  return np.power(self.left.evaluate(X), self.right.evaluate(X))\n"
     ]
    },
    {
     "name": "stdout",
     "output_type": "stream",
     "text": [
      "Invalid prediction during evaluation\n",
      "Invalid prediction during evaluation\n"
     ]
    },
    {
     "name": "stderr",
     "output_type": "stream",
     "text": [
      "C:\\Users\\Mario\\AppData\\Local\\Temp\\ipykernel_1224\\3315359002.py:59: RuntimeWarning: invalid value encountered in power\n",
      "  return np.power(self.left.evaluate(X), self.right.evaluate(X))\n",
      "C:\\Users\\Mario\\AppData\\Local\\Temp\\ipykernel_1224\\3315359002.py:59: RuntimeWarning: invalid value encountered in power\n",
      "  return np.power(self.left.evaluate(X), self.right.evaluate(X))\n"
     ]
    },
    {
     "name": "stdout",
     "output_type": "stream",
     "text": [
      "Invalid prediction during evaluation\n",
      "Invalid prediction during evaluation\n"
     ]
    },
    {
     "name": "stderr",
     "output_type": "stream",
     "text": [
      "C:\\Users\\Mario\\AppData\\Local\\Temp\\ipykernel_1224\\3315359002.py:59: RuntimeWarning: invalid value encountered in power\n",
      "  return np.power(self.left.evaluate(X), self.right.evaluate(X))\n",
      "C:\\Users\\Mario\\AppData\\Local\\Temp\\ipykernel_1224\\3315359002.py:59: RuntimeWarning: invalid value encountered in power\n",
      "  return np.power(self.left.evaluate(X), self.right.evaluate(X))\n",
      "C:\\Users\\Mario\\AppData\\Local\\Temp\\ipykernel_1224\\3315359002.py:59: RuntimeWarning: invalid value encountered in power\n",
      "  return np.power(self.left.evaluate(X), self.right.evaluate(X))\n"
     ]
    },
    {
     "name": "stdout",
     "output_type": "stream",
     "text": [
      "Invalid prediction during evaluation\n",
      "Invalid prediction during evaluation\n",
      "Invalid prediction during evaluation\n"
     ]
    },
    {
     "name": "stderr",
     "output_type": "stream",
     "text": [
      "C:\\Users\\Mario\\AppData\\Local\\Temp\\ipykernel_1224\\3315359002.py:59: RuntimeWarning: invalid value encountered in power\n",
      "  return np.power(self.left.evaluate(X), self.right.evaluate(X))\n"
     ]
    },
    {
     "name": "stdout",
     "output_type": "stream",
     "text": [
      "Invalid prediction during evaluation\n"
     ]
    },
    {
     "name": "stderr",
     "output_type": "stream",
     "text": [
      "C:\\Users\\Mario\\AppData\\Local\\Temp\\ipykernel_1224\\3315359002.py:59: RuntimeWarning: invalid value encountered in power\n",
      "  return np.power(self.left.evaluate(X), self.right.evaluate(X))\n",
      "C:\\Users\\Mario\\AppData\\Local\\Temp\\ipykernel_1224\\3315359002.py:59: RuntimeWarning: invalid value encountered in power\n",
      "  return np.power(self.left.evaluate(X), self.right.evaluate(X))\n"
     ]
    },
    {
     "name": "stdout",
     "output_type": "stream",
     "text": [
      "Invalid prediction during evaluation\n",
      "Invalid prediction during evaluation\n",
      "Invalid prediction during evaluation\n",
      "Generation 19, Best Fitness: 0.0531, Best Program Depth: 3\n",
      "Invalid prediction during evaluation\n",
      "Invalid prediction during evaluation\n"
     ]
    },
    {
     "name": "stderr",
     "output_type": "stream",
     "text": [
      "C:\\Users\\Mario\\AppData\\Local\\Temp\\ipykernel_1224\\3315359002.py:59: RuntimeWarning: invalid value encountered in power\n",
      "  return np.power(self.left.evaluate(X), self.right.evaluate(X))\n",
      "C:\\Users\\Mario\\AppData\\Local\\Temp\\ipykernel_1224\\3315359002.py:59: RuntimeWarning: invalid value encountered in power\n",
      "  return np.power(self.left.evaluate(X), self.right.evaluate(X))\n",
      "C:\\Users\\Mario\\AppData\\Local\\Temp\\ipykernel_1224\\3315359002.py:59: RuntimeWarning: invalid value encountered in power\n",
      "  return np.power(self.left.evaluate(X), self.right.evaluate(X))\n",
      "C:\\Users\\Mario\\AppData\\Local\\Temp\\ipykernel_1224\\3315359002.py:59: RuntimeWarning: invalid value encountered in power\n",
      "  return np.power(self.left.evaluate(X), self.right.evaluate(X))\n",
      "C:\\Users\\Mario\\AppData\\Local\\Temp\\ipykernel_1224\\3315359002.py:59: RuntimeWarning: invalid value encountered in power\n",
      "  return np.power(self.left.evaluate(X), self.right.evaluate(X))\n"
     ]
    },
    {
     "name": "stdout",
     "output_type": "stream",
     "text": [
      "Invalid prediction during evaluation\n",
      "Invalid prediction during evaluation\n",
      "Invalid prediction during evaluation\n"
     ]
    },
    {
     "name": "stderr",
     "output_type": "stream",
     "text": [
      "C:\\Users\\Mario\\AppData\\Local\\Temp\\ipykernel_1224\\3315359002.py:59: RuntimeWarning: invalid value encountered in power\n",
      "  return np.power(self.left.evaluate(X), self.right.evaluate(X))\n",
      "C:\\Users\\Mario\\AppData\\Local\\Temp\\ipykernel_1224\\3315359002.py:59: RuntimeWarning: invalid value encountered in power\n",
      "  return np.power(self.left.evaluate(X), self.right.evaluate(X))\n"
     ]
    },
    {
     "name": "stdout",
     "output_type": "stream",
     "text": [
      "Invalid prediction during evaluation\n",
      "Invalid prediction during evaluation\n"
     ]
    },
    {
     "name": "stderr",
     "output_type": "stream",
     "text": [
      "C:\\Users\\Mario\\AppData\\Local\\Temp\\ipykernel_1224\\3315359002.py:59: RuntimeWarning: invalid value encountered in power\n",
      "  return np.power(self.left.evaluate(X), self.right.evaluate(X))\n",
      "C:\\Users\\Mario\\AppData\\Local\\Temp\\ipykernel_1224\\3315359002.py:59: RuntimeWarning: invalid value encountered in power\n",
      "  return np.power(self.left.evaluate(X), self.right.evaluate(X))\n"
     ]
    },
    {
     "name": "stdout",
     "output_type": "stream",
     "text": [
      "Invalid prediction during evaluation\n",
      "Invalid prediction during evaluation\n"
     ]
    },
    {
     "name": "stderr",
     "output_type": "stream",
     "text": [
      "C:\\Users\\Mario\\AppData\\Local\\Temp\\ipykernel_1224\\3315359002.py:59: RuntimeWarning: invalid value encountered in power\n",
      "  return np.power(self.left.evaluate(X), self.right.evaluate(X))\n",
      "C:\\Users\\Mario\\AppData\\Local\\Temp\\ipykernel_1224\\3315359002.py:59: RuntimeWarning: invalid value encountered in power\n",
      "  return np.power(self.left.evaluate(X), self.right.evaluate(X))\n"
     ]
    },
    {
     "name": "stdout",
     "output_type": "stream",
     "text": [
      "Invalid prediction during evaluation\n",
      "Invalid prediction during evaluation\n",
      "Generation 20, Best Fitness: 0.0368, Best Program Depth: 3\n",
      "Best program (math formula): ((x1 + x2) - x3)\n",
      "Test MSE: 0.0368\n"
     ]
    }
   ],
   "source": [
    "import numpy as np\n",
    "from sklearn.model_selection import train_test_split\n",
    "from sklearn.metrics import mean_squared_error\n",
    "import random\n",
    "import operator\n",
    "\n",
    "class Node:\n",
    "    \"\"\"\n",
    "    Represents a node in the program tree.\n",
    "\n",
    "    Attributes:\n",
    "        value: The value of the node (operator, function, variable, or constant).\n",
    "        left: The left child node.\n",
    "        right: The right child node.\n",
    "        arity: The number of arguments the node's operation takes (0, 1, or 2).\n",
    "    \"\"\"\n",
    "    def __init__(self, value, left=None, right=None):\n",
    "        self.value = value\n",
    "        self.left = left\n",
    "        self.right = right\n",
    "        if self.value in SymbolicRegressor.operators:\n",
    "          if self.value == '**':\n",
    "            self.arity = 2\n",
    "          elif self.value in ['+', '-', '*', '/']:\n",
    "            self.arity = 2\n",
    "          else:\n",
    "            self.arity = 1\n",
    "        elif self.value in SymbolicRegressor.functions:\n",
    "          self.arity = 1\n",
    "        else:\n",
    "          self.arity = 0\n",
    "\n",
    "    def evaluate(self, X):\n",
    "        \"\"\"\n",
    "        Evaluates the node recursively for a given input.\n",
    "\n",
    "        Args:\n",
    "            X: Input data (numpy array).\n",
    "\n",
    "        Returns:\n",
    "            The result of the evaluation.\n",
    "        \"\"\"\n",
    "        if self.arity == 2:\n",
    "          if self.value == '+':\n",
    "            return self.left.evaluate(X) + self.right.evaluate(X)\n",
    "          elif self.value == '-':\n",
    "            return self.left.evaluate(X) - self.right.evaluate(X)\n",
    "          elif self.value == '*':\n",
    "            return self.left.evaluate(X) * self.right.evaluate(X)\n",
    "          elif self.value == '/':\n",
    "            # Avoid division by zero\n",
    "            divisor = self.right.evaluate(X)\n",
    "            if isinstance(divisor, np.ndarray):\n",
    "                divisor = np.where(divisor == 0, 1e-6, divisor)  # Replace zeros with a small value\n",
    "            elif divisor == 0:\n",
    "                divisor = 1e-6\n",
    "            return self.left.evaluate(X) / divisor\n",
    "          elif self.value == '**':\n",
    "            return np.power(self.left.evaluate(X), self.right.evaluate(X))\n",
    "\n",
    "        elif self.arity == 1:\n",
    "          return self.value(self.left.evaluate(X))\n",
    "\n",
    "        elif isinstance(self.value, int):\n",
    "          if self.value < X.shape[1]:\n",
    "            return X[:, self.value]\n",
    "        #   else:\n",
    "            # raise IndexError(f\"Index {self.value} is out of bounds for axis 1 with size {X.shape[1]}\")\n",
    "        else:  # constant\n",
    "          return [self.value]\n",
    "\n",
    "    def get_formula(self):\n",
    "        \"\"\"\n",
    "        Returns the mathematical formula represented by the node (subtree).\n",
    "        \"\"\"\n",
    "        if self.arity == 2:\n",
    "            return f\"({self.left.get_formula()} {self.value} {self.right.get_formula()})\"\n",
    "        elif self.arity == 1:\n",
    "            return f\"{self.value.__name__}({self.left.get_formula()})\"\n",
    "        elif isinstance(self.value, int):\n",
    "          return f\"x{self.value+1}\"\n",
    "        else:\n",
    "            return str(self.value)\n",
    "    \n",
    "    def get_depth(self):\n",
    "      \"\"\"Calculates the depth of the tree rooted at this node.\"\"\"\n",
    "      if self.arity == 0:\n",
    "          return 1\n",
    "      elif self.arity == 1:\n",
    "          return 1 + self.left.get_depth()\n",
    "      else:\n",
    "          return 1 + max(self.left.get_depth(), self.right.get_depth())\n",
    "\n",
    "    def copy(self):\n",
    "        \"\"\"Creates a deep copy of the node and its subtree.\"\"\"\n",
    "        left_copy = self.left.copy() if self.left else None\n",
    "        right_copy = self.right.copy() if self.right else None\n",
    "        return Node(self.value, left_copy, right_copy)\n",
    "    \n",
    "    def get_nodes_at_depth(self, target_depth, current_depth=0, nodes=None):\n",
    "      \"\"\"\n",
    "      Collects all nodes at a specific depth in the tree.\n",
    "\n",
    "      Args:\n",
    "          target_depth: The desired depth.\n",
    "          current_depth: The current depth during recursion.\n",
    "          nodes: A list to store the nodes found at the target depth.\n",
    "\n",
    "      Returns:\n",
    "          A list of nodes at the target depth.\n",
    "      \"\"\"\n",
    "      if nodes is None:\n",
    "          nodes = []\n",
    "\n",
    "      if current_depth == target_depth:\n",
    "          nodes.append(self)\n",
    "      elif current_depth < target_depth:\n",
    "          if self.left:\n",
    "              self.left.get_nodes_at_depth(target_depth, current_depth + 1, nodes)\n",
    "          if self.right:\n",
    "              self.right.get_nodes_at_depth(target_depth, current_depth + 1, nodes)\n",
    "      return nodes\n",
    "    \n",
    "    def replace_subtree(self, old_subtree, new_subtree):\n",
    "      \"\"\"\n",
    "      Replaces a subtree with another subtree within this node's subtree.\n",
    "\n",
    "      Args:\n",
    "          old_subtree: The subtree to be replaced.\n",
    "          new_subtree: The subtree to replace with.\n",
    "      \"\"\"\n",
    "      if self == old_subtree:\n",
    "          self.value = new_subtree.value\n",
    "          self.left = new_subtree.left\n",
    "          self.right = new_subtree.right\n",
    "          self.arity = new_subtree.arity\n",
    "          return\n",
    "\n",
    "      if self.left:\n",
    "          if self.left == old_subtree:\n",
    "              self.left = new_subtree\n",
    "              return\n",
    "          else:\n",
    "              self.left.replace_subtree(old_subtree, new_subtree)\n",
    "      if self.right:\n",
    "          if self.right == old_subtree:\n",
    "              self.right = new_subtree\n",
    "              return\n",
    "          else:\n",
    "              self.right.replace_subtree(old_subtree, new_subtree)\n",
    "          \n",
    "\n",
    "class SymbolicRegressor:\n",
    "    \"\"\"\n",
    "    A genetic programming-based symbolic regressor.\n",
    "\n",
    "    Attributes:\n",
    "        population_size: The size of the population.\n",
    "        generations: The number of generations.\n",
    "        operators: A list of allowed operators (+, -, *, /, **).\n",
    "        functions: A list of allowed functions (e.g., np.sin, np.cos).\n",
    "        const_range: The range for generating random constants.\n",
    "        init_depth: The initial depth range for generating trees.\n",
    "        crossover_rate: The probability of crossover.\n",
    "        mutation_rate: The probability of mutation.\n",
    "        p_terminal: The probability of selecting a terminal node during initialization.\n",
    "        metric: The evaluation metric ('mse').\n",
    "    \"\"\"\n",
    "    operators = ['+', '-', '*', '/', '**']\n",
    "    functions = [np.sin, np.cos, np.exp]\n",
    "\n",
    "    def __init__(self, population_size=100, generations=20, operators=['+', '-', '*', '/', '**'], functions=[np.sin, np.cos, np.exp], const_range=(-1.0, 1.0),\n",
    "                 init_depth=(2, 6), crossover_rate=0.7, mutation_rate=0.1, p_terminal=0.5, metric='mse'):\n",
    "        self.population_size = population_size\n",
    "        self.generations = generations\n",
    "        self.operators = operators\n",
    "        self.functions = functions\n",
    "        self.const_range = const_range\n",
    "        self.init_depth = init_depth\n",
    "        self.crossover_rate = crossover_rate\n",
    "        self.mutation_rate = mutation_rate\n",
    "        self.p_terminal = p_terminal\n",
    "        self.metric = metric\n",
    "        self.best_program = None\n",
    "        self.best_fitness = float('inf')\n",
    "\n",
    "    def _generate_random_tree(self, max_depth, X_train):\n",
    "        \"\"\"Generates a random program tree.\"\"\"\n",
    "        if max_depth == 0 or (max_depth > 0 and random.random() < self.p_terminal):\n",
    "            # Terminal node (variable or constant)\n",
    "            if random.random() < 0.5:\n",
    "                return Node(random.randint(0, X_train.shape[1]-1)) #variable\n",
    "            else:\n",
    "                return Node(random.uniform(*self.const_range)) #constant\n",
    "        else:\n",
    "            # Non-terminal node (operator or function)\n",
    "            if random.random() < len(self.operators) / (len(self.operators) + len(self.functions)):\n",
    "                op = random.choice(self.operators)\n",
    "                left = self._generate_random_tree(max_depth - 1, X_train)\n",
    "                if op == '**':\n",
    "                  right = Node(random.randint(0, 3)) # Exponentiation with small integers\n",
    "                else:\n",
    "                  right = self._generate_random_tree(max_depth - 1, X_train)\n",
    "                return Node(op, left, right)\n",
    "            else:\n",
    "                func = random.choice(self.functions)\n",
    "                return Node(func, self._generate_random_tree(max_depth - 1, X_train))\n",
    "\n",
    "    def _calculate_fitness(self, program, X, y):\n",
    "        \"\"\"Calculates the fitness of a program.\"\"\"\n",
    "        try:\n",
    "            y_pred = program.evaluate(X)\n",
    "            if self.metric == 'mse':\n",
    "                # Handle cases where y_pred might have invalid values\n",
    "                if np.any(np.isnan(y_pred)) or np.any(np.isinf(y_pred)) :\n",
    "                    print(\"Invalid prediction during evaluation\")\n",
    "                    return float('inf')\n",
    "                else:\n",
    "                    # print(\"y_pred\", y_pred)\n",
    "                    # print(\"y\", y)\n",
    "                    # print(\"shapes\", len(y_pred), len(y.shape))\n",
    "                    return mean_squared_error(y, y_pred)\n",
    "        except (ValueError, TypeError, ZeroDivisionError, OverflowError, MemoryError) as err:\n",
    "            # print(\"Error during evaluation:\", type(err).__name__)\n",
    "            # print(\"Error during evaluation\")\n",
    "            return float('inf')  # Penalize programs that raise errors\n",
    "\n",
    "    def _crossover(self, parent1, parent2):\n",
    "      \"\"\"\n",
    "      Performs crossover between two parent trees.\n",
    "\n",
    "      Args:\n",
    "          parent1: The first parent node.\n",
    "          parent2: The second parent node.\n",
    "\n",
    "      Returns:\n",
    "          Two offspring nodes.\n",
    "      \"\"\"\n",
    "      if parent1.arity == 0 or parent2.arity == 0:\n",
    "        return parent1.copy(), parent2.copy()\n",
    "\n",
    "      # 1. Choose a random crossover point in each parent\n",
    "      crossover_point1 = random.choice(parent1.get_nodes_at_depth(random.randint(1, parent1.get_depth()-1))) if parent1.get_depth() > 1 else parent1\n",
    "      crossover_point2 = random.choice(parent2.get_nodes_at_depth(random.randint(1, parent2.get_depth()-1))) if parent2.get_depth() > 1 else parent2\n",
    "\n",
    "      # 2. Create copies of the parents to avoid modifying them directly\n",
    "      offspring1 = parent1.copy()\n",
    "      offspring2 = parent2.copy()\n",
    "      \n",
    "      offspring1.replace_subtree(crossover_point1, crossover_point2.copy())\n",
    "      offspring2.replace_subtree(crossover_point2, crossover_point1.copy())\n",
    "      \n",
    "      return offspring1, offspring2\n",
    "\n",
    "    def _mutation(self, program, X_train):\n",
    "      \"\"\"\n",
    "      Performs mutation on a program tree.\n",
    "\n",
    "      Args:\n",
    "          program: The program node to mutate.\n",
    "\n",
    "      Returns:\n",
    "          The mutated program node.\n",
    "      \"\"\"\n",
    "      mutated_program = program.copy()\n",
    "      mutation_point = random.choice(mutated_program.get_nodes_at_depth(random.randint(0, mutated_program.get_depth()-1)))\n",
    "\n",
    "      if mutation_point.arity == 0:\n",
    "        # Mutate a terminal node\n",
    "        if isinstance(mutation_point.value, int): #variable\n",
    "          mutation_point.value = random.randint(0,1)\n",
    "        else: #constant\n",
    "          mutation_point.value = random.uniform(*self.const_range)\n",
    "      \n",
    "      elif mutation_point.arity == 1:\n",
    "        # Mutate a function\n",
    "        mutation_point.value = random.choice(self.functions)\n",
    "\n",
    "      else:\n",
    "        # Mutate an operator\n",
    "        mutation_point.value = random.choice(self.operators)\n",
    "        if mutation_point.value == \"**\" and random.random() < 0.7:\n",
    "          mutation_point.right = Node(random.randint(0, 3))\n",
    "\n",
    "      return mutated_program\n",
    "    \n",
    "    def _prune(self, program, X, y):\n",
    "      \"\"\"\n",
    "      Prunes a program tree to simplify it while trying to maintain performance.\n",
    "\n",
    "      Args:\n",
    "          program: The program tree to prune.\n",
    "          X: The input features.\n",
    "          y: The target values.\n",
    "\n",
    "      Returns:\n",
    "          The pruned program tree.\n",
    "      \"\"\"\n",
    "      original_fitness = self._calculate_fitness(program, X, y)\n",
    "      best_pruned_program = program.copy()\n",
    "      best_pruned_fitness = original_fitness\n",
    "      \n",
    "      for depth in range(program.get_depth() - 1, 0, -1):\n",
    "          nodes_at_depth = program.get_nodes_at_depth(depth)\n",
    "          for node in nodes_at_depth:\n",
    "              if node.arity > 0:  # Only consider non-terminal nodes for pruning\n",
    "                  \n",
    "                  # Try replacing with a constant\n",
    "                  pruned_program_constant = program.copy()\n",
    "                  pruned_program_constant.replace_subtree(node, Node(random.uniform(*self.const_range)))\n",
    "                  pruned_fitness_constant = self._calculate_fitness(pruned_program_constant, X, y)\n",
    "                  \n",
    "                  if pruned_fitness_constant <= best_pruned_fitness:\n",
    "                      best_pruned_fitness = pruned_fitness_constant\n",
    "                      best_pruned_program = pruned_program_constant\n",
    "                  \n",
    "                  # Try replacing with a variable\n",
    "                  for var_index in range(X.shape[1]):\n",
    "                      pruned_program_variable = program.copy()\n",
    "                      pruned_program_variable.replace_subtree(node, Node(var_index))\n",
    "                      pruned_fitness_variable = self._calculate_fitness(pruned_program_variable, X, y)\n",
    "                      \n",
    "                      if pruned_fitness_variable <= best_pruned_fitness:\n",
    "                          best_pruned_fitness = pruned_fitness_variable\n",
    "                          best_pruned_program = pruned_program_variable\n",
    "\n",
    "      if best_pruned_fitness <= original_fitness * 1.1: # allow a small error\n",
    "        return best_pruned_program\n",
    "      else:\n",
    "        return program\n",
    "\n",
    "    def train(self, X_train, y_train):\n",
    "        \"\"\"Trains the symbolic regressor.\"\"\"\n",
    "        # 1. Initialize the population\n",
    "        population = [self._generate_random_tree(random.randint(*self.init_depth), X_train) for _ in range(self.population_size)]\n",
    "\n",
    "        for generation in range(self.generations):\n",
    "            # 2. Evaluate fitness\n",
    "            fitness_scores = [self._calculate_fitness(program, X_train, y_train) for program in population]\n",
    "            # print(f\"Generation {generation+1}, Best Fitness: {(population[0].get_formula())}\")\n",
    "            # 3. Store best program\n",
    "            for i, fitness in enumerate(fitness_scores):\n",
    "                if fitness < self.best_fitness:\n",
    "                    self.best_fitness = fitness\n",
    "                    self.best_program = population[i].copy()\n",
    "\n",
    "            # 4. Selection (tournament selection)\n",
    "            selected_indices = []\n",
    "            for _ in range(self.population_size):\n",
    "                tournament = random.sample(range(self.population_size), 2) #tournament of size 2\n",
    "                winner = min(tournament, key=lambda i: fitness_scores[i])\n",
    "                selected_indices.append(winner)\n",
    "\n",
    "            # 5. Crossover and Mutation\n",
    "            new_population = []\n",
    "            for i in range(0, self.population_size, 2):\n",
    "                parent1 = population[selected_indices[i]]\n",
    "                parent2 = population[selected_indices[i+1]]\n",
    "\n",
    "                if random.random() < self.crossover_rate:\n",
    "                    offspring1, offspring2 = self._crossover(parent1, parent2)\n",
    "                else:\n",
    "                    offspring1, offspring2 = parent1.copy(), parent2.copy()\n",
    "\n",
    "                if random.random() < self.mutation_rate:\n",
    "                    offspring1 = self._mutation(offspring1, X_train)\n",
    "                if random.random() < self.mutation_rate:\n",
    "                    offspring2 = self._mutation(offspring2, X_train)\n",
    "\n",
    "                new_population.extend([offspring1, offspring2])\n",
    "\n",
    "            population = new_population\n",
    "\n",
    "            # 6. Pruning (optional, you can adjust the frequency)\n",
    "            # if generation % 5 == 0:\n",
    "            #   for i in range(len(population)):\n",
    "            #     population[i] = self._prune(population[i], X_train, y_train)\n",
    "              \n",
    "            print(f\"Generation {generation+1}, Best Fitness: {self.best_fitness:.4f}, Best Program Depth: {100 if self.best_program is None else self.best_program.get_depth()}\")\n",
    "\n",
    "    def get_math_formula(self):\n",
    "        \"\"\"Returns the best program as a mathematical formula string.\"\"\"\n",
    "        if self.best_program is not None:\n",
    "            return self.best_program.get_formula()\n",
    "        else:\n",
    "            return \"No program trained yet.\"\n",
    "\n",
    "    def get_function_math_formula(self):\n",
    "      \"\"\"Returns the best program as a callable function.\"\"\"\n",
    "      if self.best_program is not None:\n",
    "          return lambda X: self.best_program.evaluate(X)\n",
    "      else:\n",
    "          return \"No program trained yet.\"\n",
    "\n",
    "# Example usage with custom functions and operators:\n",
    "X = np.random.rand(100, 3)  # 3 input features\n",
    "y = np.sin(X[:, 0]) + X[:, 1] ** 2 - 0.5 * X[:, 2]\n",
    "\n",
    "X_train, X_test, y_train, y_test = train_test_split(X, y, test_size=0.2, random_state=42)\n",
    "\n",
    "# Create and train the symbolic regressor\n",
    "regressor = SymbolicRegressor(\n",
    "    population_size=2000,\n",
    "    generations=20,\n",
    "    operators=['+', '-', '*', '/', '**'],\n",
    "    functions=[np.sin, np.cos, np.exp],\n",
    "    const_range=(-2.0, 2.0),\n",
    "    init_depth=(2, 5),\n",
    "    crossover_rate=0.7,\n",
    "    mutation_rate=0.2,\n",
    "    p_terminal=0.6,\n",
    "    metric='mse'\n",
    ")\n",
    "\n",
    "regressor.train(X_train, y_train)\n",
    "\n",
    "# Get the best program as a mathematical formula\n",
    "best_formula = regressor.get_math_formula()\n",
    "print(f\"Best program (math formula): {best_formula}\")\n",
    "\n",
    "# Get the best program as a callable function\n",
    "best_function = regressor.get_function_math_formula()\n",
    "\n",
    "# print(\"Best function:\", best_function.)\n",
    "# Make predictions on the test set\n",
    "y_pred = best_function(X_test)\n",
    "\n",
    "# Evaluate the model\n",
    "\n",
    "mse = mean_squared_error(y_test, y_pred)\n",
    "print(f\"Test MSE: {mse:.4f}\")"
   ]
  },
  {
   "cell_type": "markdown",
   "metadata": {},
   "source": [
    "## Evaluation"
   ]
  },
  {
   "cell_type": "code",
   "execution_count": 19,
   "metadata": {},
   "outputs": [
    {
     "name": "stdout",
     "output_type": "stream",
     "text": [
      "    |   Population Average    |             Best Individual              |\n",
      "---- ------------------------- ------------------------------------------ ----------\n",
      " Gen   Length          Fitness   Length          Fitness      OOB Fitness  Time Left\n",
      "   0    37.95          32852.3        5        0.0924583        0.0962209      1.07m\n",
      "   1    10.54          2.65077       35        0.0338287        0.0457788     34.87s\n",
      "   2     5.80          1.79536        7        0.0211094        0.0195035     29.16s\n",
      "   3     1.64         0.621582        7        0.0207309        0.0229098     26.99s\n",
      "   4     2.10         0.510679        7        0.0208262        0.0220528     23.89s\n",
      "   5     4.15         0.996103        9        0.0185058        0.0216999     23.38s\n",
      "   6     5.27          1.03254        9        0.0184478        0.0222221     21.21s\n",
      "   7     5.37          1.78135        9        0.0183328        0.0232565     20.30s\n",
      "   8     5.31          1.01744        9        0.0184913        0.0218301     18.79s\n",
      "   9     5.43           6.6526        9        0.0185862        0.0209761     18.11s\n",
      "  10     5.29          1.17597        9        0.0184571        0.0221384     15.37s\n",
      "  11     5.24         0.902818        9        0.0185793        0.0210384     14.10s\n",
      "  12     5.19          1.12482        9        0.0184919        0.0218252     12.08s\n",
      "  13     5.23          1.03324        9        0.0185648        0.0211692      9.99s\n",
      "  14     5.21          1.64489        5        0.0192661         0.021275      8.18s\n",
      "  15     5.40            1.561        7       0.00654438       0.00637924      7.02s\n",
      "Best formula: add(X0, mul(mul(0.737, X1), 0.233))\n",
      "Mean Squared Error on Test Set: 5.360900299226208e-05\n"
     ]
    }
   ],
   "source": [
    "\n",
    "import numpy as np\n",
    "from gplearn.genetic import SymbolicRegressor\n",
    "import matplotlib.pyplot as plt\n",
    "from sklearn.model_selection import train_test_split\n",
    "from sklearn.metrics import mean_squared_error\n",
    "# Example dataset\n",
    "np.random.seed(42)\n",
    "x = np.random.uniform(-10, 10, 100).reshape(-1, 1)  # Input feature\n",
    "y = 3 * x[:, 0]**2 - 2 * x[:, 0] + 5 + np.random.normal(0, 10, 100)  # Target variable\n",
    "problem = np.load('problem_0.npz')\n",
    "x = problem['x'].T\n",
    "y = problem['y']\n",
    "\n",
    "x.shape, y.shape\n",
    "\n",
    "x_train, x_valid, y_train, y_valid = train_test_split(x, y, test_size=0.2, random_state=42)\n",
    "\n",
    "# Define the symbolic regressor\n",
    "est = SymbolicRegressor(\n",
    "    population_size=2000,\n",
    "    generations=20,\n",
    "    stopping_criteria=0.01,\n",
    "    p_crossover=0.7,\n",
    "    p_subtree_mutation=0.1,\n",
    "    p_hoist_mutation=0.05,\n",
    "    p_point_mutation=0.1,\n",
    "    max_samples=0.9,\n",
    "    verbose=1,\n",
    "    parsimony_coefficient=0.01,\n",
    "    random_state=42\n",
    ")\n",
    "\n",
    "# Fit the model\n",
    "est.fit(x_train, y_train)\n",
    "\n",
    "# Predict on test data\n",
    "y_pred = est.predict(x_valid)\n",
    "\n",
    "# Print the resulting formula\n",
    "print(\"Best formula:\", est._program)\n",
    "\n",
    "\n",
    "# Evaluate and visualize\n",
    "mse = mean_squared_error(y_valid, y_pred)\n",
    "print(f\"Mean Squared Error on Test Set: {mse}\")\n"
   ]
  },
  {
   "cell_type": "code",
   "execution_count": null,
   "metadata": {},
   "outputs": [],
   "source": [
    "# Initialize and train\n",
    "from sklearn.metrics import mean_squared_error\n",
    "genP = GeneticProgramming(population_size=200, generations=100)\n",
    "print(x_train.shape)\n",
    "print(y_train.shape)\n",
    "genP.train(x_train.T, y_train)\n",
    "\n",
    "# Get the mathematical formula as string\n",
    "print(\"Evolved formula:\", genP.get_math_formula())\n",
    "\n",
    "# Get the executable function\n",
    "evolved_function = genP.get_function_math_formula()\n",
    "\n",
    "# Evaluate the evolved function\n",
    "print(f\"MSE (train): {mean_squared_error(y_train, evolved_function(x_train))}\")\n",
    "print(f\"MSE (real) : {mean_squared_error(y_validation, evolved_function(x_validation))}\")"
   ]
  },
  {
   "cell_type": "code",
   "execution_count": null,
   "metadata": {},
   "outputs": [],
   "source": []
  },
  {
   "cell_type": "code",
   "execution_count": null,
   "metadata": {},
   "outputs": [],
   "source": []
  },
  {
   "cell_type": "code",
   "execution_count": null,
   "metadata": {},
   "outputs": [],
   "source": []
  },
  {
   "cell_type": "code",
   "execution_count": null,
   "metadata": {},
   "outputs": [],
   "source": []
  },
  {
   "cell_type": "code",
   "execution_count": null,
   "metadata": {},
   "outputs": [],
   "source": []
  },
  {
   "cell_type": "code",
   "execution_count": null,
   "metadata": {},
   "outputs": [],
   "source": []
  },
  {
   "cell_type": "code",
   "execution_count": null,
   "metadata": {},
   "outputs": [],
   "source": []
  },
  {
   "cell_type": "code",
   "execution_count": null,
   "metadata": {},
   "outputs": [],
   "source": []
  },
  {
   "cell_type": "code",
   "execution_count": null,
   "metadata": {},
   "outputs": [],
   "source": []
  },
  {
   "cell_type": "code",
   "execution_count": null,
   "metadata": {},
   "outputs": [],
   "source": []
  },
  {
   "cell_type": "code",
   "execution_count": null,
   "metadata": {},
   "outputs": [],
   "source": []
  },
  {
   "cell_type": "code",
   "execution_count": null,
   "metadata": {},
   "outputs": [],
   "source": []
  },
  {
   "cell_type": "code",
   "execution_count": null,
   "metadata": {},
   "outputs": [],
   "source": []
  },
  {
   "cell_type": "code",
   "execution_count": null,
   "metadata": {},
   "outputs": [],
   "source": []
  }
 ],
 "metadata": {
  "kernelspec": {
   "display_name": "Python 3",
   "language": "python",
   "name": "python3"
  },
  "language_info": {
   "codemirror_mode": {
    "name": "ipython",
    "version": 3
   },
   "file_extension": ".py",
   "mimetype": "text/x-python",
   "name": "python",
   "nbconvert_exporter": "python",
   "pygments_lexer": "ipython3",
   "version": "3.10.5"
  }
 },
 "nbformat": 4,
 "nbformat_minor": 2
}
